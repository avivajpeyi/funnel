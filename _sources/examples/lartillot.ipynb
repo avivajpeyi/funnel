{
 "cells": [
  {
   "cell_type": "markdown",
   "metadata": {
    "collapsed": false,
    "jupyter": {
     "outputs_hidden": false
    }
   },
   "source": [
    "# EX2: Lartillot's Model\n",
    "\n",
    "\n",
    "Equation for Lartillot model\n",
    "\n",
    "$p(\\theta|d)= \\frac{p(d|\\theta)p(\\theta)}{p(d)}$"
   ]
  },
  {
   "cell_type": "code",
   "execution_count": 4,
   "metadata": {},
   "outputs": [
    {
     "name": "stderr",
     "output_type": "stream",
     "text": [
      "Installing package into ‘/home/avaj040/R/x86_64-pc-linux-gnu-library/4.3’\n",
      "(as ‘lib’ is unspecified)\n",
      "\n",
      "Installing package into ‘/home/avaj040/R/x86_64-pc-linux-gnu-library/4.3’\n",
      "(as ‘lib’ is unspecified)\n",
      "\n"
     ]
    }
   ],
   "source": [
    "install.packages(\"matrixStats\")\n",
    "install.packages(\"mvtnorm\")"
   ]
  },
  {
   "cell_type": "code",
   "execution_count": 8,
   "metadata": {
    "collapsed": false,
    "jupyter": {
     "outputs_hidden": false
    }
   },
   "outputs": [],
   "source": [
    "set.seed(42)\n",
    "library(matrixStats)\n",
    "library(mvtnorm)\n",
    "\n",
    "inflation <- 1\n",
    "n = 1e3\n",
    "v = 0.01\n",
    "p = 1\n",
    "R = 40\n",
    "Rt = 2000\n",
    "Re = 360\n",
    "tau = exp(-7.25)\n",
    "eta = exp(-7.75)\n",
    "\n",
    "target.mean = rep(0, p)\n",
    "target.var = diag(x = v/(v + 1), ncol = p, nrow = p)\n",
    "\n",
    "log.true.c <- function(v, p) {\n",
    "  (p / 2) * (log(v) - log(1 + v)) # this formula is given right after (58) in Lartillot.\n",
    "}\n",
    "ltrue.c = log.true.c(v = v, p = p)\n",
    "\n",
    "###### delete later\n",
    "likelihood = function(xi, v)\n",
    "\n",
    "\n",
    "epanechnikov.results = triangle.results = doubleexp.results = norm.results = simulation.results = rep(NA, 300)\n",
    "ptm <- proc.time()\n"
   ]
  },
  {
   "cell_type": "code",
   "execution_count": 12,
   "metadata": {},
   "outputs": [],
   "source": [
    "# joint density of data and parameter\n",
    "g = function(theta, v){\n",
    "  like = -sum(theta^2) / (2 * v)\n",
    "  prior = sum(dnorm(theta, 0, 1, log = T))\n",
    "  return(like + prior)\n",
    "}"
   ]
  },
  {
   "cell_type": "code",
   "execution_count": 15,
   "metadata": {
    "collapsed": false,
    "jupyter": {
     "outputs_hidden": false
    }
   },
   "outputs": [
    {
     "name": "stdout",
     "output_type": "stream",
     "text": [
      "[1] \"iteration1\"\n",
      "[1] \"iteration2\"\n",
      "[1] \"iteration3\"\n",
      "[1] \"iteration4\"\n",
      "[1] \"iteration5\"\n",
      "[1] \"iteration6\"\n",
      "[1] \"iteration7\"\n",
      "[1] \"iteration8\"\n",
      "[1] \"iteration9\"\n",
      "[1] \"iteration10\"\n",
      "[1] \"iteration11\"\n",
      "[1] \"iteration12\"\n",
      "[1] \"iteration13\"\n",
      "[1] \"iteration14\"\n",
      "[1] \"iteration15\"\n",
      "[1] \"iteration16\"\n",
      "[1] \"iteration17\"\n",
      "[1] \"iteration18\"\n",
      "[1] \"iteration19\"\n",
      "[1] \"iteration20\"\n",
      "[1] \"iteration21\"\n",
      "[1] \"iteration22\"\n",
      "[1] \"iteration23\"\n",
      "[1] \"iteration24\"\n",
      "[1] \"iteration25\"\n",
      "[1] \"iteration26\"\n",
      "[1] \"iteration27\"\n",
      "[1] \"iteration28\"\n",
      "[1] \"iteration29\"\n",
      "[1] \"iteration30\"\n",
      "[1] \"iteration31\"\n",
      "[1] \"iteration32\"\n",
      "[1] \"iteration33\"\n",
      "[1] \"iteration34\"\n",
      "[1] \"iteration35\"\n",
      "[1] \"iteration36\"\n",
      "[1] \"iteration37\"\n",
      "[1] \"iteration38\"\n",
      "[1] \"iteration39\"\n",
      "[1] \"iteration40\"\n",
      "[1] \"iteration41\"\n",
      "[1] \"iteration42\"\n",
      "[1] \"iteration43\"\n",
      "[1] \"iteration44\"\n",
      "[1] \"iteration45\"\n",
      "[1] \"iteration46\"\n",
      "[1] \"iteration47\"\n",
      "[1] \"iteration48\"\n",
      "[1] \"iteration49\"\n",
      "[1] \"iteration50\"\n",
      "[1] \"iteration51\"\n",
      "[1] \"iteration52\"\n",
      "[1] \"iteration53\"\n",
      "[1] \"iteration54\"\n",
      "[1] \"iteration55\"\n",
      "[1] \"iteration56\"\n",
      "[1] \"iteration57\"\n",
      "[1] \"iteration58\"\n",
      "[1] \"iteration59\"\n",
      "[1] \"iteration60\"\n",
      "[1] \"iteration61\"\n",
      "[1] \"iteration62\"\n",
      "[1] \"iteration63\"\n",
      "[1] \"iteration64\"\n",
      "[1] \"iteration65\"\n",
      "[1] \"iteration66\"\n",
      "[1] \"iteration67\"\n",
      "[1] \"iteration68\"\n",
      "[1] \"iteration69\"\n",
      "[1] \"iteration70\"\n",
      "[1] \"iteration71\"\n",
      "[1] \"iteration72\"\n",
      "[1] \"iteration73\"\n",
      "[1] \"iteration74\"\n",
      "[1] \"iteration75\"\n",
      "[1] \"iteration76\"\n",
      "[1] \"iteration77\"\n",
      "[1] \"iteration78\"\n",
      "[1] \"iteration79\"\n",
      "[1] \"iteration80\"\n",
      "[1] \"iteration81\"\n",
      "[1] \"iteration82\"\n",
      "[1] \"iteration83\"\n",
      "[1] \"iteration84\"\n",
      "[1] \"iteration85\"\n",
      "[1] \"iteration86\"\n",
      "[1] \"iteration87\"\n",
      "[1] \"iteration88\"\n",
      "[1] \"iteration89\"\n",
      "[1] \"iteration90\"\n",
      "[1] \"iteration91\"\n",
      "[1] \"iteration92\"\n",
      "[1] \"iteration93\"\n",
      "[1] \"iteration94\"\n",
      "[1] \"iteration95\"\n",
      "[1] \"iteration96\"\n",
      "[1] \"iteration97\"\n",
      "[1] \"iteration98\"\n",
      "[1] \"iteration99\"\n",
      "[1] \"iteration100\"\n",
      "[1] \"iteration101\"\n",
      "[1] \"iteration102\"\n",
      "[1] \"iteration103\"\n",
      "[1] \"iteration104\"\n",
      "[1] \"iteration105\"\n",
      "[1] \"iteration106\"\n",
      "[1] \"iteration107\"\n",
      "[1] \"iteration108\"\n",
      "[1] \"iteration109\"\n",
      "[1] \"iteration110\"\n",
      "[1] \"iteration111\"\n",
      "[1] \"iteration112\"\n",
      "[1] \"iteration113\"\n",
      "[1] \"iteration114\"\n",
      "[1] \"iteration115\"\n",
      "[1] \"iteration116\"\n",
      "[1] \"iteration117\"\n",
      "[1] \"iteration118\"\n",
      "[1] \"iteration119\"\n",
      "[1] \"iteration120\"\n",
      "[1] \"iteration121\"\n",
      "[1] \"iteration122\"\n",
      "[1] \"iteration123\"\n",
      "[1] \"iteration124\"\n",
      "[1] \"iteration125\"\n",
      "[1] \"iteration126\"\n",
      "[1] \"iteration127\"\n",
      "[1] \"iteration128\"\n",
      "[1] \"iteration129\"\n",
      "[1] \"iteration130\"\n",
      "[1] \"iteration131\"\n",
      "[1] \"iteration132\"\n",
      "[1] \"iteration133\"\n",
      "[1] \"iteration134\"\n",
      "[1] \"iteration135\"\n",
      "[1] \"iteration136\"\n",
      "[1] \"iteration137\"\n",
      "[1] \"iteration138\"\n",
      "[1] \"iteration139\"\n",
      "[1] \"iteration140\"\n",
      "[1] \"iteration141\"\n",
      "[1] \"iteration142\"\n",
      "[1] \"iteration143\"\n",
      "[1] \"iteration144\"\n",
      "[1] \"iteration145\"\n",
      "[1] \"iteration146\"\n",
      "[1] \"iteration147\"\n",
      "[1] \"iteration148\"\n",
      "[1] \"iteration149\"\n",
      "[1] \"iteration150\"\n",
      "[1] \"iteration151\"\n",
      "[1] \"iteration152\"\n",
      "[1] \"iteration153\"\n",
      "[1] \"iteration154\"\n",
      "[1] \"iteration155\"\n",
      "[1] \"iteration156\"\n",
      "[1] \"iteration157\"\n",
      "[1] \"iteration158\"\n",
      "[1] \"iteration159\"\n",
      "[1] \"iteration160\"\n",
      "[1] \"iteration161\"\n",
      "[1] \"iteration162\"\n",
      "[1] \"iteration163\"\n",
      "[1] \"iteration164\"\n",
      "[1] \"iteration165\"\n",
      "[1] \"iteration166\"\n",
      "[1] \"iteration167\"\n",
      "[1] \"iteration168\"\n",
      "[1] \"iteration169\"\n",
      "[1] \"iteration170\"\n",
      "[1] \"iteration171\"\n",
      "[1] \"iteration172\"\n",
      "[1] \"iteration173\"\n",
      "[1] \"iteration174\"\n",
      "[1] \"iteration175\"\n",
      "[1] \"iteration176\"\n",
      "[1] \"iteration177\"\n",
      "[1] \"iteration178\"\n",
      "[1] \"iteration179\"\n",
      "[1] \"iteration180\"\n",
      "[1] \"iteration181\"\n",
      "[1] \"iteration182\"\n",
      "[1] \"iteration183\"\n",
      "[1] \"iteration184\"\n",
      "[1] \"iteration185\"\n",
      "[1] \"iteration186\"\n",
      "[1] \"iteration187\"\n",
      "[1] \"iteration188\"\n",
      "[1] \"iteration189\"\n",
      "[1] \"iteration190\"\n",
      "[1] \"iteration191\"\n",
      "[1] \"iteration192\"\n",
      "[1] \"iteration193\"\n",
      "[1] \"iteration194\"\n",
      "[1] \"iteration195\"\n",
      "[1] \"iteration196\"\n",
      "[1] \"iteration197\"\n",
      "[1] \"iteration198\"\n",
      "[1] \"iteration199\"\n",
      "[1] \"iteration200\"\n",
      "[1] \"iteration201\"\n",
      "[1] \"iteration202\"\n",
      "[1] \"iteration203\"\n",
      "[1] \"iteration204\"\n",
      "[1] \"iteration205\"\n",
      "[1] \"iteration206\"\n",
      "[1] \"iteration207\"\n",
      "[1] \"iteration208\"\n",
      "[1] \"iteration209\"\n",
      "[1] \"iteration210\"\n",
      "[1] \"iteration211\"\n",
      "[1] \"iteration212\"\n",
      "[1] \"iteration213\"\n",
      "[1] \"iteration214\"\n",
      "[1] \"iteration215\"\n",
      "[1] \"iteration216\"\n",
      "[1] \"iteration217\"\n",
      "[1] \"iteration218\"\n",
      "[1] \"iteration219\"\n",
      "[1] \"iteration220\"\n",
      "[1] \"iteration221\"\n",
      "[1] \"iteration222\"\n",
      "[1] \"iteration223\"\n",
      "[1] \"iteration224\"\n",
      "[1] \"iteration225\"\n",
      "[1] \"iteration226\"\n",
      "[1] \"iteration227\"\n",
      "[1] \"iteration228\"\n",
      "[1] \"iteration229\"\n",
      "[1] \"iteration230\"\n",
      "[1] \"iteration231\"\n",
      "[1] \"iteration232\"\n",
      "[1] \"iteration233\"\n",
      "[1] \"iteration234\"\n",
      "[1] \"iteration235\"\n",
      "[1] \"iteration236\"\n",
      "[1] \"iteration237\"\n",
      "[1] \"iteration238\"\n",
      "[1] \"iteration239\"\n",
      "[1] \"iteration240\"\n",
      "[1] \"iteration241\"\n",
      "[1] \"iteration242\"\n",
      "[1] \"iteration243\"\n",
      "[1] \"iteration244\"\n",
      "[1] \"iteration245\"\n",
      "[1] \"iteration246\"\n",
      "[1] \"iteration247\"\n",
      "[1] \"iteration248\"\n",
      "[1] \"iteration249\"\n",
      "[1] \"iteration250\"\n",
      "[1] \"iteration251\"\n",
      "[1] \"iteration252\"\n",
      "[1] \"iteration253\"\n",
      "[1] \"iteration254\"\n",
      "[1] \"iteration255\"\n",
      "[1] \"iteration256\"\n",
      "[1] \"iteration257\"\n",
      "[1] \"iteration258\"\n",
      "[1] \"iteration259\"\n",
      "[1] \"iteration260\"\n",
      "[1] \"iteration261\"\n",
      "[1] \"iteration262\"\n",
      "[1] \"iteration263\"\n",
      "[1] \"iteration264\"\n",
      "[1] \"iteration265\"\n",
      "[1] \"iteration266\"\n",
      "[1] \"iteration267\"\n",
      "[1] \"iteration268\"\n",
      "[1] \"iteration269\"\n",
      "[1] \"iteration270\"\n",
      "[1] \"iteration271\"\n",
      "[1] \"iteration272\"\n",
      "[1] \"iteration273\"\n",
      "[1] \"iteration274\"\n",
      "[1] \"iteration275\"\n",
      "[1] \"iteration276\"\n",
      "[1] \"iteration277\"\n",
      "[1] \"iteration278\"\n",
      "[1] \"iteration279\"\n",
      "[1] \"iteration280\"\n",
      "[1] \"iteration281\"\n",
      "[1] \"iteration282\"\n",
      "[1] \"iteration283\"\n",
      "[1] \"iteration284\"\n",
      "[1] \"iteration285\"\n",
      "[1] \"iteration286\"\n",
      "[1] \"iteration287\"\n",
      "[1] \"iteration288\"\n",
      "[1] \"iteration289\"\n",
      "[1] \"iteration290\"\n",
      "[1] \"iteration291\"\n",
      "[1] \"iteration292\"\n",
      "[1] \"iteration293\"\n",
      "[1] \"iteration294\"\n",
      "[1] \"iteration295\"\n",
      "[1] \"iteration296\"\n",
      "[1] \"iteration297\"\n",
      "[1] \"iteration298\"\n",
      "[1] \"iteration299\"\n",
      "[1] \"iteration300\"\n"
     ]
    },
    {
     "data": {
      "text/plain": [
       "   user  system elapsed \n",
       "  0.604   0.020 120.926 "
      ]
     },
     "metadata": {},
     "output_type": "display_data"
    },
    {
     "data": {
      "text/html": [
       "0"
      ],
      "text/latex": [
       "0"
      ],
      "text/markdown": [
       "0"
      ],
      "text/plain": [
       "[1] 0"
      ]
     },
     "metadata": {},
     "output_type": "display_data"
    },
    {
     "data": {
      "text/html": [
       "-2.30334101718324"
      ],
      "text/latex": [
       "-2.30334101718324"
      ],
      "text/markdown": [
       "-2.30334101718324"
      ],
      "text/plain": [
       "[1] -2.303341"
      ]
     },
     "metadata": {},
     "output_type": "display_data"
    },
    {
     "data": {
      "text/html": [
       "0.00260494982243339"
      ],
      "text/latex": [
       "0.00260494982243339"
      ],
      "text/markdown": [
       "0.00260494982243339"
      ],
      "text/plain": [
       "[1] 0.00260495"
      ]
     },
     "metadata": {},
     "output_type": "display_data"
    },
    {
     "data": {
      "text/html": [
       "0.00204674530626065"
      ],
      "text/latex": [
       "0.00204674530626065"
      ],
      "text/markdown": [
       "0.00204674530626065"
      ],
      "text/plain": [
       "[1] 0.002046745"
      ]
     },
     "metadata": {},
     "output_type": "display_data"
    },
    {
     "data": {
      "text/html": [
       "<strong>png:</strong> 2"
      ],
      "text/latex": [
       "\\textbf{png:} 2"
      ],
      "text/markdown": [
       "**png:** 2"
      ],
      "text/plain": [
       "png \n",
       "  2 "
      ]
     },
     "metadata": {},
     "output_type": "display_data"
    },
    {
     "data": {
      "text/html": [
       "-2.30096404267195"
      ],
      "text/latex": [
       "-2.30096404267195"
      ],
      "text/markdown": [
       "-2.30096404267195"
      ],
      "text/plain": [
       "[1] -2.300964"
      ]
     },
     "metadata": {},
     "output_type": "display_data"
    },
    {
     "data": {
      "text/html": [
       "0.00907076937971787"
      ],
      "text/latex": [
       "0.00907076937971787"
      ],
      "text/markdown": [
       "0.00907076937971787"
      ],
      "text/plain": [
       "[1] 0.009070769"
      ]
     },
     "metadata": {},
     "output_type": "display_data"
    },
    {
     "data": {
      "text/html": [
       "-2.29863432626151"
      ],
      "text/latex": [
       "-2.29863432626151"
      ],
      "text/markdown": [
       "-2.29863432626151"
      ],
      "text/plain": [
       "[1] -2.298634"
      ]
     },
     "metadata": {},
     "output_type": "display_data"
    },
    {
     "data": {
      "text/html": [
       "0.0177615086442737"
      ],
      "text/latex": [
       "0.0177615086442737"
      ],
      "text/markdown": [
       "0.0177615086442737"
      ],
      "text/plain": [
       "[1] 0.01776151"
      ]
     },
     "metadata": {},
     "output_type": "display_data"
    },
    {
     "data": {
      "text/html": [
       "-2.29307714070162"
      ],
      "text/latex": [
       "-2.29307714070162"
      ],
      "text/markdown": [
       "-2.29307714070162"
      ],
      "text/plain": [
       "[1] -2.293077"
      ]
     },
     "metadata": {},
     "output_type": "display_data"
    },
    {
     "data": {
      "text/html": [
       "0.0130000283642092"
      ],
      "text/latex": [
       "0.0130000283642092"
      ],
      "text/markdown": [
       "0.0130000283642092"
      ],
      "text/plain": [
       "[1] 0.01300003"
      ]
     },
     "metadata": {},
     "output_type": "display_data"
    },
    {
     "data": {
      "text/html": [
       "-2.30428848256149"
      ],
      "text/latex": [
       "-2.30428848256149"
      ],
      "text/markdown": [
       "-2.30428848256149"
      ],
      "text/plain": [
       "[1] -2.304288"
      ]
     },
     "metadata": {},
     "output_type": "display_data"
    },
    {
     "data": {
      "text/html": [
       "0.00702147549591139"
      ],
      "text/latex": [
       "0.00702147549591139"
      ],
      "text/markdown": [
       "0.00702147549591139"
      ],
      "text/plain": [
       "[1] 0.007021475"
      ]
     },
     "metadata": {},
     "output_type": "display_data"
    }
   ],
   "source": [
    "# we choose to evaluate the posterior density at 0\n",
    "for (i in 1:300){\n",
    "  if (p == 1){\n",
    "    # FI\n",
    "    target.sample = rnorm(n = n, sd = sqrt(target.var))\n",
    "\n",
    "    a = sin(R * target.sample) / target.sample\n",
    "    post.dens = sum(a) / (n * pi)\n",
    "    lpriorlike = g(0, v)\n",
    "    simulation.results[i] = lpriorlike - log(post.dens)\n",
    "\n",
    "    # normal-FI\n",
    "    post.dens = mean(dnorm(target.sample, mean = 0, sd = 4 * tau))\n",
    "    norm.results[i] = lpriorlike - log(post.dens)\n",
    "    # double-exponential-FI\n",
    "    post.dens = mean(dcauchy(target.sample, location = 0, scale = eta))\n",
    "    doubleexp.results[i] = lpriorlike - log(post.dens)\n",
    "    # triangle-kernel-FI\n",
    "    a = (1 / (Rt * target.sample^2)) * (1 - cos(Rt * (target.sample)))\n",
    "    post.dens = sum(a) / (n * pi^p)\n",
    "    triangle.results[i] = lpriorlike - log(post.dens)\n",
    "    # Epanechnikov-kernel-FI\n",
    "    a = (-2 / Re) * (1 / target.sample^2) * cos(Re * (-target.sample)) + (2 / Re^2) * (1 / -target.sample^3) * sin(Re * (-target.sample))\n",
    "    post.dens = sum(a) / (n * pi^p)\n",
    "    epanechnikov.results[i] = lpriorlike - log(post.dens)\n",
    "  }\n",
    "  if (p >= 2){\n",
    "    target.sample = rnorm(p * n, mean = 0, sd = sqrt(v / (v + 1))) * inflation\n",
    "    target.sample = matrix(c(target.sample), nrow = n, ncol = p, byrow = T)\n",
    "    a = abs(rowProds(sin(R * target.sample) / target.sample)) # multiplying together different dimensions\n",
    "    post.dens = sum(a) / (n * pi^p)\n",
    "    lpriorlike = g(rep(0, p), v = v)\n",
    "    simulation.results[i] = lpriorlike - log(post.dens)\n",
    "\n",
    "    # normal-FI\n",
    "    post.dens = mean(dmvnorm(target.sample, mean = rep(0, p), sigma = diag(2 * tau, nrow = p)))\n",
    "    lpriorlike = g(0, v = v)\n",
    "    norm.results[i] = lpriorlike - log(post.dens)\n",
    "  }\n",
    "  print(paste0(\"iteration\", i))\n",
    "}\n",
    "proc.time() - ptm\n",
    "mean(is.na(simulation.results))\n",
    "mean(simulation.results)\n",
    "sd(simulation.results) / sqrt(300)\n",
    "square.diff = (simulation.results - rep(ltrue.c, 300))^2\n",
    "(1 / 300) * sum(square.diff)\n",
    "\n",
    "png(\"GFIcase4_R.png\")\n",
    "plot(density(simulation.results), xlab = \"estimates of marginal likelihood\",\n",
    "     main = \"The Fourier Integral Estimates\")\n",
    "abline(v = ltrue.c, col = \"red\")\n",
    "mtext(substitute(paste(\"R = \", v),\n",
    "                 list(v = R)),\n",
    "      side = 1, line = 4, col = \"blue\")\n",
    "#legend(\"topright\", legend = c(\"density of estimates\", \"true value\"), col = c(\"black\", \"red\"), lwd = 2, lty = 1)\n",
    "\n",
    "plot(density(norm.results), xlab = \"estimates of marginal likelihood\",\n",
    "     main = \"The normal-kernel Fourier Integral Estimates\")\n",
    "abline(v = ltrue.c, col = \"red\")\n",
    "mtext(substitute(paste(\"tau = \", v),\n",
    "                 list(v = tau)),\n",
    "      side = 1, line = 4, col = \"blue\")\n",
    "\n",
    "plot(density(doubleexp.results), xlab = \"estimates of marginal likelihood\",\n",
    "     main = \"The Cauchy-kernel Fourier Integral Estimates\")\n",
    "abline(v = ltrue.c, col = \"red\")\n",
    "mtext(substitute(paste(\"eta = \", v),\n",
    "                 list(v = eta)),\n",
    "      side = 1, line = 4, col = \"blue\")\n",
    "\n",
    "plot(density(triangle.results), xlab = \"estimates of marginal likelihood\",\n",
    "     main = \"The triangular-kernel Fourier Integral Estimates\")\n",
    "abline(v = ltrue.c, col = \"red\")\n",
    "mtext(substitute(paste(\"R = \", v),\n",
    "                 list(v = Rt)),\n",
    "      side = 1, line = 4, col = \"blue\")\n",
    "\n",
    "plot(density(epanechnikov.results), xlab = \"estimates of marginal likelihood\",\n",
    "     main = \"The Epanechnikov-kernel Fourier Integral Estimates\")\n",
    "abline(v = ltrue.c, col = \"red\")\n",
    "mtext(substitute(paste(\"R = \", v),\n",
    "                 list(v = Re)),\n",
    "      side = 1, line = 4, col = \"blue\")\n",
    "dev.off()\n",
    "\n",
    "mean(norm.results)\n",
    "sd(norm.results) / sqrt(300)\n",
    "mean(doubleexp.results)\n",
    "sd(doubleexp.results) / sqrt(300)\n",
    "mean(triangle.results)\n",
    "sd(triangle.results) / sqrt(300)\n",
    "mean(epanechnikov.results)\n",
    "sd(epanechnikov.results) / sqrt(300)\n",
    "\n"
   ]
  },
  {
   "cell_type": "markdown",
   "metadata": {},
   "source": [
    "![GFIcase4_R.png](GFIcase4_R.png)"
   ]
  },
  {
   "cell_type": "code",
   "execution_count": null,
   "metadata": {},
   "outputs": [],
   "source": []
  }
 ],
 "metadata": {
  "kernelspec": {
   "display_name": "R",
   "language": "R",
   "name": "ir"
  },
  "language_info": {
   "codemirror_mode": "r",
   "file_extension": ".r",
   "mimetype": "text/x-r-source",
   "name": "R",
   "pygments_lexer": "r",
   "version": "4.3.0"
  }
 },
 "nbformat": 4,
 "nbformat_minor": 4
}
